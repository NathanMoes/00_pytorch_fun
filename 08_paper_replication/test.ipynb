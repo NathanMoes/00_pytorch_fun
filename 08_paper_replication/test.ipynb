{
 "cells": [
  {
   "attachments": {},
   "cell_type": "markdown",
   "metadata": {},
   "source": [
    "##08. Pytorch paper replication\n",
    "The goal of machine learning research paper replicating is to turn a reserach paper into ML code\n",
    "\n",
    "In this notebook we will be replicating the vit paper with pytorch (transformer) :\n",
    "https://arxiv.org/abs/2010.11929\n",
    "\n",
    "based on notebook: https://www.learnpytorch.io/08_pytorch_paper_replicating/#08-pytorch-paper-replicating\n"
   ]
  },
  {
   "attachments": {},
   "cell_type": "markdown",
   "metadata": {},
   "source": [
    "## 0. Get setup\n"
   ]
  }
 ],
 "metadata": {
  "kernelspec": {
   "display_name": "base",
   "language": "python",
   "name": "python3"
  },
  "language_info": {
   "codemirror_mode": {
    "name": "ipython",
    "version": 3
   },
   "file_extension": ".py",
   "mimetype": "text/x-python",
   "name": "python",
   "nbconvert_exporter": "python",
   "pygments_lexer": "ipython3",
   "version": "3.10.9"
  },
  "orig_nbformat": 4
 },
 "nbformat": 4,
 "nbformat_minor": 2
}
